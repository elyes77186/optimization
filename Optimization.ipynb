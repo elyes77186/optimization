{
  "nbformat": 4,
  "nbformat_minor": 0,
  "metadata": {
    "colab": {
      "provenance": [],
      "authorship_tag": "ABX9TyN+phf0Z6gwun9SxffnzcYu",
      "include_colab_link": true
    },
    "kernelspec": {
      "name": "python3",
      "display_name": "Python 3"
    },
    "language_info": {
      "name": "python"
    }
  },
  "cells": [
    {
      "cell_type": "markdown",
      "metadata": {
        "id": "view-in-github",
        "colab_type": "text"
      },
      "source": [
        "<a href=\"https://colab.research.google.com/github/elyes77186/optimization/blob/main/Optimization.ipynb\" target=\"_parent\"><img src=\"https://colab.research.google.com/assets/colab-badge.svg\" alt=\"Open In Colab\"/></a>"
      ]
    },
    {
      "cell_type": "code",
      "execution_count": 1,
      "metadata": {
        "colab": {
          "base_uri": "https://localhost:8080/"
        },
        "id": "6cvisULUUVOr",
        "outputId": "65282786-14d0-4ccf-8f94-22e15c8911e1"
      },
      "outputs": [
        {
          "output_type": "stream",
          "name": "stdout",
          "text": [
            "Optimal solutions for f(x):\n",
            "Using line search: 13.672280458098035\n",
            "Using golden section search: 13.672398386403598\n",
            "Using scipy's solver: 13.672398202257863\n",
            "\n",
            "Optimal solutions for g(x):\n",
            "Using line search: nan\n",
            "Using golden section search: 2.999999565161051\n",
            "Using scipy's solver: 2.999994039139014\n"
          ]
        },
        {
          "output_type": "stream",
          "name": "stderr",
          "text": [
            "<ipython-input-1-2917b2ec6c9f>:8: RuntimeWarning: overflow encountered in scalar power\n",
            "  return -x**5 + 2*x**4 - 23*x**3 - 12*x**2 - 36*x\n",
            "<ipython-input-1-2917b2ec6c9f>:8: RuntimeWarning: invalid value encountered in scalar add\n",
            "  return -x**5 + 2*x**4 - 23*x**3 - 12*x**2 - 36*x\n",
            "<ipython-input-1-2917b2ec6c9f>:14: RuntimeWarning: overflow encountered in scalar power\n",
            "  return -5*x**4 + 8*x**3 - 69*x**2 - 24*x - 36\n",
            "<ipython-input-1-2917b2ec6c9f>:14: RuntimeWarning: invalid value encountered in scalar add\n",
            "  return -5*x**4 + 8*x**3 - 69*x**2 - 24*x - 36\n"
          ]
        }
      ],
      "source": [
        "import numpy as np\n",
        "from scipy.optimize import minimize_scalar\n",
        "\n",
        "def f(x):\n",
        "    return x**4 - 16*x**3 - 45*x**2 - 20*x + 203\n",
        "\n",
        "def g(x):\n",
        "    return -x**5 + 2*x**4 - 23*x**3 - 12*x**2 - 36*x\n",
        "\n",
        "def df(x):\n",
        "    return 4*x**3 - 48*x**2 - 90*x - 20\n",
        "\n",
        "def dg(x):\n",
        "    return -5*x**4 + 8*x**3 - 69*x**2 - 24*x - 36\n",
        "\n",
        "def line_search(func, x0, alpha=0.1, beta=0.5, max_iter=1000, tol=1e-6):\n",
        "\n",
        "    x = x0\n",
        "    for _ in range(max_iter):\n",
        "        grad = df(x) if func.__name__ == 'f' else dg(x)\n",
        "        if np.abs(grad) < tol:\n",
        "            break\n",
        "        d = -grad\n",
        "        step_size = 1.0\n",
        "        while func(x + step_size * d) > func(x) + alpha * step_size * grad:\n",
        "            step_size *= beta\n",
        "        x = x + step_size * d\n",
        "    return x\n",
        "\n",
        "def golden_section_search(func, a, b, tol=1e-6):\n",
        "\n",
        "    gr = (np.sqrt(5) + 1) / 2\n",
        "\n",
        "    while np.abs(b - a) > tol:\n",
        "        x1 = b - (b - a) / gr\n",
        "        x2 = a + (b - a) / gr\n",
        "\n",
        "        if func(x1) < func(x2):\n",
        "            b = x2\n",
        "        else:\n",
        "            a = x1\n",
        "\n",
        "    return (a + b) / 2\n",
        "\n",
        "# Define the range for each function\n",
        "range_f = (2.5, 14)\n",
        "range_g = (2, 3)\n",
        "\n",
        "# Perform optimization using direct implementations\n",
        "optimal_x_f_line_search = line_search(f, np.mean(range_f))\n",
        "optimal_x_g_line_search = line_search(g, np.mean(range_g))\n",
        "\n",
        "optimal_x_f_golden_section = golden_section_search(f, *range_f)\n",
        "optimal_x_g_golden_section = golden_section_search(g, *range_g)\n",
        "\n",
        "# Perform optimization using scipy's solvers\n",
        "optimal_x_f_scipy = minimize_scalar(f, bounds=range_f, method='bounded').x\n",
        "optimal_x_g_scipy = minimize_scalar(g, bounds=range_g, method='bounded').x\n",
        "\n",
        "print(\"Optimal solutions for f(x):\")\n",
        "print(\"Using line search:\", optimal_x_f_line_search)\n",
        "print(\"Using golden section search:\", optimal_x_f_golden_section)\n",
        "print(\"Using scipy's solver:\", optimal_x_f_scipy)\n",
        "\n",
        "print(\"\\nOptimal solutions for g(x):\")\n",
        "print(\"Using line search:\", optimal_x_g_line_search)\n",
        "print(\"Using golden section search:\", optimal_x_g_golden_section)\n",
        "print(\"Using scipy's solver:\", optimal_x_g_scipy)\n"
      ]
    }
  ]
}